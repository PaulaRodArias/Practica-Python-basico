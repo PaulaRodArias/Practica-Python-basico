{
 "cells": [
  {
   "cell_type": "markdown",
   "metadata": {},
   "source": [
    "Hola Paula!\n",
    "\n",
    "Soy **Patricio Requena** 👋. Es un placer ser el revisor de tu proyecto el día de hoy!\n",
    "\n",
    "Revisaré tu proyecto detenidamente con el objetivo de ayudarte a mejorar y perfeccionar tus habilidades. Durante mi revisión, identificaré áreas donde puedas hacer mejoras en tu código, señalando específicamente qué y cómo podrías ajustar para optimizar el rendimiento y la claridad de tu proyecto. Además, es importante para mí destacar los aspectos que has manejado excepcionalmente bien. Reconocer tus fortalezas te ayudará a entender qué técnicas y métodos están funcionando a tu favor y cómo puedes aplicarlos en futuras tareas. \n",
    "\n",
    "_**Recuerda que al final de este notebook encontrarás un comentario general de mi parte**_, empecemos!\n",
    "\n",
    "Encontrarás mis comentarios dentro de cajas verdes, amarillas o rojas, ⚠️ **por favor, no muevas, modifiques o borres mis comentarios** ⚠️:\n",
    "\n",
    "\n",
    "<div class=\"alert alert-block alert-success\">\n",
    "<b>Comentario del revisor</b> <a class=“tocSkip”></a>\n",
    "Si todo está perfecto.\n",
    "</div>\n",
    "\n",
    "<div class=\"alert alert-block alert-warning\">\n",
    "<b>Comentario del revisor</b> <a class=“tocSkip”></a>\n",
    "Si tu código está bien pero se puede mejorar o hay algún detalle que le hace falta.\n",
    "</div>\n",
    "\n",
    "<div class=\"alert alert-block alert-danger\">\n",
    "<b>Comentario del revisor</b> <a class=“tocSkip”></a>\n",
    "Si de pronto hace falta algo o existe algún problema con tu código o conclusiones.\n",
    "</div>\n",
    "\n",
    "Puedes responderme de esta forma:\n",
    "<div class=\"alert alert-block alert-info\">\n",
    "<b>Respuesta del estudiante</b> <a class=“tocSkip”></a>\n",
    "</div>"
   ]
  },
  {
   "cell_type": "markdown",
   "metadata": {
    "id": "jrvwNQJi0P9l"
   },
   "source": [
    "Una empresa de comercio electrónico, Store 1, recientemente comenzó a recopilar datos sobre sus clientes. El objetivo final de Store 1 es comprender mejor el comportamiento de sus clientes y tomar decisiones basadas en datos para mejorar su experiencia online.\n",
    "\n",
    "Como parte del equipo de análisis, tu primera tarea es evaluar la calidad de una muestra de datos recopilados y prepararla para futuros análisis."
   ]
  },
  {
   "cell_type": "markdown",
   "metadata": {
    "id": "2utuFkVZ0P9p"
   },
   "source": [
    "# Cuestionario\n",
    "\n",
    "Store 1 tiene como objetivo garantizar la coherencia en la recopilación de datos. Como parte de esta iniciativa, se debe evaluar la calidad de los datos recopilados sobre los usuarios y las usuarias. Te han pedido que revises los datos recopilados y propongas cambios. A continuación verás datos sobre un usuario o una usuaria en particular; revisa los datos e identifica cualquier posible problema."
   ]
  },
  {
   "cell_type": "code",
   "execution_count": 2,
   "metadata": {
    "id": "v4ldWAes0P9q"
   },
   "outputs": [],
   "source": [
    "user_id = '32415'\n",
    "user_name = ' mike_reed '\n",
    "user_age = 32.0\n",
    "fav_categories = ['ELECTRONICS', 'SPORT', 'BOOKS']"
   ]
  },
  {
   "cell_type": "markdown",
   "metadata": {
    "id": "v5J9NgXf0P9r"
   },
   "source": [
    "**Opciones:**\n",
    "\n",
    "1. El tipo de datos para `user_id` debe cambiarse de una cadena a un número entero.\n",
    "    \n",
    "2. La variable `user_name` contiene una cadena que tiene espacios innecesarios y un guion bajo entre el nombre y el apellido.\n",
    "    \n",
    "3. El tipo de datos de `user_age` es incorrecto.\n",
    "    \n",
    "4. La lista `fav_categories` contiene cadenas en mayúsculas. En su lugar, deberíamos convertir los valores de la lista a minúsculas."
   ]
  },
  {
   "cell_type": "markdown",
   "metadata": {
    "id": "dZRSLSQV0P9s"
   },
   "source": [
    "Escribe en la celda Markdown a continuación el número de las opciones que has identificado como problemas. Si has identificado varios problemas, sepáralos con comas. Por ejemplo, si piensas que los números 1 y 3 son incorrectos, escribe 1, 3."
   ]
  },
  {
   "cell_type": "markdown",
   "metadata": {
    "id": "iCEVoi_A0P9s"
   },
   "source": [
    "**Escribe tu respuesta y explica tu argumentación:**\n",
    "2, 3, 4. \n",
    "Para arreglar user_name habría que eliminar los espacios para que no dificulten la escritura y(o intercambio dentro del código que se use. Con respecto a user_age, la variable es un float cuando debería ser int. Si bien fav_categories no contiene algún error de sintaxis, la generalidad es utilizar letras minúsculas en los valores de las variables."
   ]
  },
  {
   "cell_type": "markdown",
   "metadata": {
    "id": "qKAtWDqu0P9t"
   },
   "source": [
    "# Ejercicio 1\n",
    "\n",
    "Vamos a implementar los cambios que identificamos. Primero, necesitamos corregir los problemas de la variable `user_name`. Como vimos, tiene espacios innecesarios y un guion bajo como separador entre el nombre y el apellido; tu objetivo es eliminar los espacios y luego reemplazar el guion bajo con el espacio."
   ]
  },
  {
   "cell_type": "code",
   "execution_count": 3,
   "metadata": {
    "id": "442z87Uq0P9t"
   },
   "outputs": [
    {
     "name": "stdout",
     "output_type": "stream",
     "text": [
      "Mike Reed\n"
     ]
    }
   ],
   "source": [
    "user_name = ' mike_reed '\n",
    "user_name = user_name.strip()# eliminar los espacios en la cadena original\n",
    "user_name = user_name.replace('_',' ')# reemplazar el guion bajo con el espacio\n",
    "user_name = user_name.title()\n",
    "\n",
    "print(user_name)"
   ]
  },
  {
   "cell_type": "markdown",
   "metadata": {},
   "source": [
    "<div class=\"alert alert-block alert-success\">\n",
    "<b>Comentario del revisor (1ra Iteracion)</b> <a class=“tocSkip”></a>\n",
    "\n",
    "Buen trabajo! Adicional si quisieras pasar las primeras letras a mayúscula podrías agregar el uso de `.title()` al resultado obtenido en tu variable `user_name`\n",
    "</div>\n",
    "\n",
    "<div class=\"alert alert-block alert-info\">\n",
    "<b>Súper, agregué la fórmula '.title( )' ¿O sería mejor añadirla en print: print(user_name.title()) ?Gracias! ...También quisiera saber qué tal el ejercicio 5 y su alternativa puesta en comentarios. No sé qué pasa, copio la fórmula, pero no puedo dejar el comentario por un error de sintaxis. Gracias de nuevo.</b> <a class=“tocSkip”></a>\n",
    "</div>"
   ]
  },
  {
   "cell_type": "markdown",
   "metadata": {},
   "source": [
    "<div class=\"alert alert-block alert-success\">\n",
    "<b>Comentario del revisor (2da Iteracion)</b> <a class=“tocSkip”></a>\n",
    "\n",
    "Cómo es para fines de presenta mejor el resultado podías escoger el órden que desees ya sea guardando en la variable o sólo en el print. Revisaré tu comentario en el ejercicio 5 y te dejaré una respuesta ahí\n",
    "</div>"
   ]
  },
  {
   "cell_type": "markdown",
   "metadata": {
    "id": "g4YyN4WK0P9t"
   },
   "source": [
    "# Ejercicio 2\n",
    "\n",
    "Luego, debemos dividir el `user_name` (nombre de usuario o usuaria) actualizado en dos subcadenas para obtener una lista que contenga dos valores: la cadena para el nombre y la cadena para el apellido."
   ]
  },
  {
   "cell_type": "code",
   "execution_count": 4,
   "metadata": {
    "id": "Q1L1ARfY0P9u"
   },
   "outputs": [
    {
     "name": "stdout",
     "output_type": "stream",
     "text": [
      "['mike', 'reed']\n"
     ]
    }
   ],
   "source": [
    "user_name = 'mike reed'\n",
    "name_split = user_name.split()# divide aquí el string user_name\n",
    "\n",
    "print(name_split)"
   ]
  },
  {
   "cell_type": "markdown",
   "metadata": {},
   "source": [
    "<div class=\"alert alert-block alert-success\">\n",
    "<b>Comentario del revisor (1ra Iteracion)</b> <a class=“tocSkip”></a>\n",
    "\n",
    "Correcto! Hiciste un buen trabajo diviendo el string\n",
    "</div>"
   ]
  },
  {
   "cell_type": "markdown",
   "metadata": {
    "id": "-VWZkZtc0P9u"
   },
   "source": [
    "# Ejercicio 3\n",
    "\n",
    "¡Genial! Ahora debemos trabajar con la variable `user_age`. Como ya mencionamos, esta tiene un tipo de datos incorrecto. Arreglemos este problema transformando el tipo de datos y mostrando el resultado final."
   ]
  },
  {
   "cell_type": "code",
   "execution_count": 5,
   "metadata": {
    "id": "WPpidP470P9u"
   },
   "outputs": [
    {
     "name": "stdout",
     "output_type": "stream",
     "text": [
      "32\n"
     ]
    }
   ],
   "source": [
    "user_age = 32.0\n",
    "user_age = int(user_age)# cambia el tipo de datos para la edad de un usuario o usuaria\n",
    "\n",
    "print(user_age)"
   ]
  },
  {
   "cell_type": "markdown",
   "metadata": {},
   "source": [
    "<div class=\"alert alert-block alert-success\">\n",
    "<b>Comentario del revisor (1ra Iteracion)</b> <a class=“tocSkip”></a>\n",
    "\n",
    "Buen trabajo! Cambiar los tipos de dato en casos cómo este ayudará a tener análisis más acertados\n",
    "</div>"
   ]
  },
  {
   "cell_type": "markdown",
   "metadata": {
    "id": "xdfgaKd60P9v"
   },
   "source": [
    "# Ejercicio 4\n",
    "\n",
    "Como sabemos, los datos no siempre son perfectos. Debemos considerar escenarios en los que el valor de `user_age` no se pueda convertir en un número entero. Para evitar que nuestro sistema se bloquee, debemos tomar medidas con anticipación.\n",
    "\n",
    "Escribe un código que intente convertir la variable `user_age` en un número entero y asigna el valor transformado a `user_age_int`. Si el intento falla, mostramos un mensaje pidiendo al usuario o la usuaria que proporcione su edad como un valor numérico con el mensaje: `Please provide your age as a numerical value.` (Proporcione su edad como un valor numérico.)"
   ]
  },
  {
   "cell_type": "code",
   "execution_count": 6,
   "metadata": {
    "id": "duI5zn_O0P9v"
   },
   "outputs": [
    {
     "name": "stdout",
     "output_type": "stream",
     "text": [
      "Please provide your age as a numerical value.\n"
     ]
    }
   ],
   "source": [
    "user_age = 'treinta y dos' # aquí está la variable que almacena la edad como un string.\n",
    "\n",
    "try:\n",
    "    print(int(user_age))# escribe un código que intente transformar user_age en un entero y si falla, imprime el mensaje especificado\n",
    "except:\n",
    "    print('Please provide your age as a numerical value.')"
   ]
  },
  {
   "cell_type": "markdown",
   "metadata": {},
   "source": [
    "<div class=\"alert alert-block alert-success\">\n",
    "<b>Comentario del revisor (1ra Iteracion)</b> <a class=“tocSkip”></a>\n",
    "\n",
    "Excelente! Manejar los errores en tú código es una buena práctica y el mostrar el mensaje indicando porque sucedió el error hace que sea más fácil la corrección\n",
    "</div>"
   ]
  },
  {
   "cell_type": "markdown",
   "metadata": {
    "id": "Q04i6KQH0P9v"
   },
   "source": [
    "# Ejercicio 5\n",
    "\n",
    "Finalmente, considera que todas las categorías favoritas se almacenan en mayúsculas. Para llenar una nueva lista llamada `fav_categories_low` con las mismas categorías, pero en minúsculas, itera los valores en la lista `fav_categories`, modifícalos y agrega los nuevos valores a la lista `fav_categories_low`. Como siempre, muestra el resultado final."
   ]
  },
  {
   "cell_type": "code",
   "execution_count": 7,
   "metadata": {
    "id": "AtQg6ie10P9v"
   },
   "outputs": [
    {
     "name": "stdout",
     "output_type": "stream",
     "text": [
      "['electronics', 'sport', 'books']\n"
     ]
    }
   ],
   "source": [
    "fav_categories = ['ELECTRONICS', 'SPORT', 'BOOKS']\n",
    "fav_categories_low = []\n",
    "\n",
    "#Creating the fav_categories_low list with the values from fav_categories in lowercase letters\n",
    "for category in fav_categories: # escribe tu código aquí\n",
    "    fav_categories_low.append(category.lower())\n",
    "    \n",
    "#¿Hubiese sido mejor usar este código? fav_categories_low = [category.lower() for category in fav_categories]\n",
    "        \n",
    "# no elimines la siguiente declaración print\n",
    "print(fav_categories_low)"
   ]
  },
  {
   "cell_type": "markdown",
   "metadata": {},
   "source": [
    "<div class=\"alert alert-block alert-success\">\n",
    "<b>Comentario del revisor (2da Iteracion)</b> <a class=“tocSkip”></a>\n",
    "\n",
    "El código que propones está muy bien, de hecho es una buena opción que ayuda con la legibilidad de tu código. La línea planteada está correcta por lo que debería ejecutarse correctamente\n",
    " \n",
    "</div>"
   ]
  },
  {
   "cell_type": "markdown",
   "metadata": {
    "id": "w8J0RSee0P9w"
   },
   "source": [
    "# Ejercicio 6\n",
    "\n",
    "Hemos obtenido información adicional sobre los hábitos de gasto de nuestros usuarios y usuarias, incluido el importe gastado en cada una de sus categorías favoritas. La gerencia está interesada en las siguientes métricas:\n",
    "\n",
    "- Importe total gastado por el usuario o la usuaria.\n",
    "- Importe mínimo gastado.\n",
    "- Importe máximo gastado.\n",
    "\n",
    "Vamos a calcular estos valores y mostrarlos en la pantalla:"
   ]
  },
  {
   "cell_type": "code",
   "execution_count": 8,
   "metadata": {},
   "outputs": [
    {
     "name": "stdout",
     "output_type": "stream",
     "text": [
      "1280\n",
      "894\n",
      "173\n"
     ]
    }
   ],
   "source": [
    "fav_categories_low = ['electronics', 'sport', 'books']\n",
    "spendings_per_category = [894, 213, 173]\n",
    "\n",
    "total_amount = sum(spendings_per_category)  # escribe tu código aquí\n",
    "max_amount = max(spendings_per_category)  # escribe tu código aquí\n",
    "min_amount = min(spendings_per_category)  # escribe tu código aquí\n",
    "\n",
    "# no elimines la siguiente declaración print\n",
    "print(total_amount)\n",
    "print(max_amount)\n",
    "print(min_amount)"
   ]
  },
  {
   "cell_type": "markdown",
   "metadata": {},
   "source": [
    "<div class=\"alert alert-block alert-success\">\n",
    "<b>Comentario del revisor (1ra Iteracion)</b> <a class=“tocSkip”></a>\n",
    "\n",
    "Buen trabajo! Obtuviste los resultados esperados aplicando el bucle y las funciones correctas\n",
    "</div>"
   ]
  },
  {
   "cell_type": "markdown",
   "metadata": {
    "id": "hyPGzOt60P9w"
   },
   "source": [
    "# Ejercicio 7\n",
    "\n",
    "La empresa quiere ofrecer descuentos a sus clientes leales. Los clientes y las clientas que realizan compras por un importe total mayor a $1500 se consideran leales y recibirán un descuento.\n",
    "\n",
    "Nuestro objetivo es crear un bucle `while` que compruebe el importe total gastado y se detenga al alcanzarlo. Para simular nuevas compras, la variable `new_purchase` genera un número entre 30 y 80 en cada iteración del bucle. Esto representa el importe de dinero gastado en una nueva compra y es lo que hay que sumar al total.\n",
    "\n",
    "Una vez que se alcance el importe objetivo y se termine el bucle `while`, se mostrará la cantidad final."
   ]
  },
  {
   "cell_type": "code",
   "execution_count": 9,
   "metadata": {
    "id": "FmpTfK7C0P9x"
   },
   "outputs": [
    {
     "name": "stdout",
     "output_type": "stream",
     "text": [
      "1524\n"
     ]
    }
   ],
   "source": [
    "from random import randint\n",
    "\n",
    "total_amount_spent = 1280\n",
    "target_amount = 1500\n",
    "\n",
    "while total_amount_spent < target_amount:  #escribe tu código aquí #¿O es mejor escribir < 1500?\n",
    "\tnew_purchase = randint(30, 80) # generamos un número aleatorio de 30 a 80\n",
    "\ttotal_amount_spent += new_purchase # escribe tu código aquí\n",
    "\n",
    "print(total_amount_spent)"
   ]
  },
  {
   "cell_type": "markdown",
   "metadata": {},
   "source": [
    "<div class=\"alert alert-block alert-success\">\n",
    "<b>Comentario del revisor (1ra Iteracion)</b> <a class=“tocSkip”></a>\n",
    "\n",
    "Buen trabajo con la condición y el código en el bucle! Practicar el cómo aplicar estas condiciones mejorarán tu lógica \n",
    "</div>"
   ]
  },
  {
   "cell_type": "markdown",
   "metadata": {
    "id": "e9j2dOo60P9x"
   },
   "source": [
    "# Ejercicio 8\n",
    "\n",
    "Ahora tenemos toda la información sobre un cliente o una clienta de la forma que queremos que sea. La gerencia de una empresa nos pidió proponer una forma de resumir toda la información sobre un usuario o una usuaria. Tu objetivo es crear una cadena formateada que utilice información de las variables `user_id`, `user_name` y `user_age`.\n",
    "\n",
    "Esta es la cadena final que queremos crear: `User 32415 is mike who is 32 years old.` (El usuario 32415 es Mike, quien tiene 32 años)."
   ]
  },
  {
   "cell_type": "code",
   "execution_count": 10,
   "metadata": {
    "id": "2dzhjYbm0P9x"
   },
   "outputs": [
    {
     "name": "stdout",
     "output_type": "stream",
     "text": [
      "User 32415 is mike who is 32 years old.\n"
     ]
    }
   ],
   "source": [
    "user_id = '32415'\n",
    "user_name = ['mike', 'reed']\n",
    "user_age = 32\n",
    "\n",
    "user_info = f'User {user_id} is {user_name[0]} who is {user_age} years old.' # escribe tu código aquí\n",
    "\n",
    "# no elimines la siguiente declaración print\n",
    "print(user_info)"
   ]
  },
  {
   "cell_type": "markdown",
   "metadata": {},
   "source": [
    "<div class=\"alert alert-block alert-success\">\n",
    "<b>Comentario del revisor (1ra Iteracion)</b> <a class=“tocSkip”></a>\n",
    "\n",
    "Bien hecho! El mostrar strings formateados ayuda a tener más claridad de los resultados que estás mostrando\n",
    "</div>"
   ]
  },
  {
   "cell_type": "markdown",
   "metadata": {
    "id": "hJ38hJYU0P9x"
   },
   "source": [
    "Como sabes, las empresas recopilan y almacenan datos de una forma particular. Store 1 desea almacenar toda la información sobre sus clientes y clientas en una tabla.\n",
    "\n",
    "| user_id | user_name | user_age | purchase_category | spending_per_category |\n",
    "| --- | --- | --- | --- | --- |\n",
    "| '32415' | 'mike', 'reed' | 32 | 'electronics', 'sport', 'books' | 894, 213, 173 |\n",
    "| '31980' | 'kate', 'morgan' | 24 | 'clothes', 'shoes' | 439, 390 |\n",
    "\n",
    "En términos técnicos, una tabla es simplemente una lista anidada que contiene una sublista para cada usuario o usuaria.\n",
    "\n",
    "Store 1 ha creado una tabla de este tipo para sus usuarios y usuarias. Se almacena en la variable `users`. Cada sublista contiene el ID del usuario o la usuaria, nombre y apellido, edad, categorías favoritas y el importe gastado en cada categoría."
   ]
  },
  {
   "cell_type": "markdown",
   "metadata": {
    "id": "J7IXD3Zv0P9x"
   },
   "source": [
    "# Ejercicio 9\n",
    "\n",
    "Para calcular los ingresos de la empresa, sigue estos pasos.\n",
    "\n",
    "1. Utiliza `for` para iterar sobre la lista `users`.\n",
    "2. Extrae la lista de gastos de cada usuario o usuaria y suma los valores.\n",
    "3. Actualiza el valor de los ingresos con el total de cada usuario o usuaria.\n",
    "\n",
    "Así obtendrás los ingresos totales de la empresa que mostrarás en la pantalla al final."
   ]
  },
  {
   "cell_type": "code",
   "execution_count": 11,
   "metadata": {
    "id": "d8jeNWXQ0P9y"
   },
   "outputs": [
    {
     "name": "stdout",
     "output_type": "stream",
     "text": [
      "2109\n"
     ]
    }
   ],
   "source": [
    "users = [\n",
    "\t  # este es el inicio de la primera sublista\n",
    "    ['32415', ['mike', 'reed'], 32, ['electronics', 'sport', 'books'],\n",
    "        [894, 213, 173]\n",
    "    ], # este es el final de la primera sublista\n",
    "\n",
    "    # este es el inicio de la segunda sublista\n",
    "    ['31980', ['kate', 'morgan'], 24, ['clothes', 'shoes'],\n",
    "        [439, 390]\n",
    "    ] # este es el final de la segunda sublista\n",
    "]\n",
    "\n",
    "revenue = 0\n",
    "\n",
    "for user in users:\n",
    "\tspendings_list = user[-1]# extrae la lista de gastos de cada usuario o usuaria y suma los valores\n",
    "\ttotal_spendings = sum(spendings_list)# suma los gastos de todas las categorías para obtener el total de un usuario o una usuaria en particular\n",
    "\trevenue += total_spendings# actualiza los ingresos\n",
    "\n",
    "# no elimines la siguiente declaración print\n",
    "print(revenue)"
   ]
  },
  {
   "cell_type": "markdown",
   "metadata": {},
   "source": [
    "<div class=\"alert alert-block alert-success\">\n",
    "<b>Comentario del revisor (1ra Iteracion)</b> <a class=“tocSkip”></a>\n",
    "\n",
    "Lo hiciste muy bien, el acceso a los gastos de la lista es correcto. Poder acceder a las listas por su índice es un paso importante de comprender para tus próximos proyectos\n",
    "</div>"
   ]
  },
  {
   "cell_type": "markdown",
   "metadata": {
    "id": "wR0om7Tk0P9y"
   },
   "source": [
    "# Ejercicio 10\n",
    "\n",
    "Recorre la lista de usuarios y usuarias que te hemos proporcionado y muestra los nombres de la clientela menor de 30 años."
   ]
  },
  {
   "cell_type": "code",
   "execution_count": 12,
   "metadata": {
    "id": "KVdthJm70P9y"
   },
   "outputs": [
    {
     "name": "stdout",
     "output_type": "stream",
     "text": [
      "['kate', 'morgan']\n",
      "['samantha', 'smith']\n",
      "['emily', 'brown']\n",
      "['jose', 'martinez']\n",
      "['james', 'lee']\n"
     ]
    }
   ],
   "source": [
    "users = [\n",
    "    ['32415', ['mike', 'reed'], 32, ['electronics', 'sport', 'books'],\n",
    "     [894, 213, 173]],\n",
    "    ['31980', ['kate', 'morgan'], 24, ['clothes', 'books'], [439,\n",
    "     390]],\n",
    "    ['32156', ['john', 'doe'], 37, ['electronics', 'home', 'food'],\n",
    "     [459, 120, 99]],\n",
    "    ['32761', ['samantha', 'smith'], 29, ['clothes', 'electronics',\n",
    "     'beauty'], [299, 679, 85]],\n",
    "    ['32984', ['david', 'white'], 41, ['books', 'home', 'sport'], [234,\n",
    "     329, 243]],\n",
    "    ['33001', ['emily', 'brown'], 26, ['beauty', 'home', 'food'], [213,\n",
    "     659, 79]],\n",
    "    ['33767', ['maria', 'garcia'], 33, ['clothes', 'food', 'beauty'],\n",
    "     [499, 189, 63]],\n",
    "    ['33912', ['jose', 'martinez'], 22, ['sport', 'electronics', 'home'\n",
    "     ], [259, 549, 109]],\n",
    "    ['34009', ['lisa', 'wilson'], 35, ['home', 'books', 'clothes'],\n",
    "     [329, 189, 329]],\n",
    "    ['34278', ['james', 'lee'], 28, ['beauty', 'clothes', 'electronics'\n",
    "     ], [189, 299, 579]],\n",
    "    ]\n",
    "\n",
    "#List of names for clients under 30\n",
    "for user in users:\n",
    "    if user[2] < 30:\n",
    "        print(user[1])# escribe tu código aquí"
   ]
  },
  {
   "cell_type": "markdown",
   "metadata": {
    "id": "LBHWQenm0P9y"
   },
   "source": [
    "# Ejercicio 11\n",
    "\n",
    "Juntemos las tareas 9 y 10 e imprimamos los nombres de los usuarios y las usuarias que tengan menos de 30 años y un gasto total superior a 1000 dólares."
   ]
  },
  {
   "cell_type": "code",
   "execution_count": 13,
   "metadata": {
    "id": "HaQNXS-V0P9z"
   },
   "outputs": [
    {
     "name": "stdout",
     "output_type": "stream",
     "text": [
      "['samantha', 'smith']\n",
      "['james', 'lee']\n"
     ]
    }
   ],
   "source": [
    "users = [\n",
    "    ['32415', ['mike', 'reed'], 32, ['electronics', 'sport', 'books'],\n",
    "     [894, 213, 173]],\n",
    "    ['31980', ['kate', 'morgan'], 24, ['clothes', 'books'], [439,\n",
    "     390]],\n",
    "    ['32156', ['john', 'doe'], 37, ['electronics', 'home', 'food'],\n",
    "     [459, 120, 99]],\n",
    "    ['32761', ['samantha', 'smith'], 29, ['clothes', 'electronics',\n",
    "     'beauty'], [299, 679, 85]],\n",
    "    ['32984', ['david', 'white'], 41, ['books', 'home', 'sport'], [234,\n",
    "     329, 243]],\n",
    "    ['33001', ['emily', 'brown'], 26, ['beauty', 'home', 'food'], [213,\n",
    "     659, 79]],\n",
    "    ['33767', ['maria', 'garcia'], 33, ['clothes', 'food', 'beauty'],\n",
    "     [499, 189, 63]],\n",
    "    ['33912', ['jose', 'martinez'], 22, ['sport', 'electronics', 'home'\n",
    "     ], [259, 549, 109]],\n",
    "    ['34009', ['lisa', 'wilson'], 35, ['home', 'books', 'clothes'],\n",
    "     [329, 189, 329]],\n",
    "    ['34278', ['james', 'lee'], 28, ['beauty', 'clothes', 'electronics'\n",
    "     ], [189, 299, 579]],\n",
    "    ]\n",
    "\n",
    "#Clients under 30 that have spent more than $1000\n",
    "for user in users:\n",
    "    if user[2] < 30 and sum(user[-1]) > 1000:  # escribe tu código aquí\n",
    "        print(user[1])"
   ]
  },
  {
   "cell_type": "markdown",
   "metadata": {},
   "source": [
    "<div class=\"alert alert-block alert-danger\">\n",
    "<b>Comentario del revisor (1ra Iteracion)</b> <a class=“tocSkip”></a>\n",
    "\n",
    "El error en esta celda es debido a un caracter de más antes del comentario\n",
    "</div>"
   ]
  },
  {
   "cell_type": "markdown",
   "metadata": {},
   "source": [
    "<div class=\"alert alert-block alert-success\">\n",
    "<b>Comentario del revisor (2da Iteracion)</b> <a class=“tocSkip”></a>\n",
    "\n",
    "Buen trabajo con la corrección!\n",
    " \n",
    "</div>"
   ]
  },
  {
   "cell_type": "markdown",
   "metadata": {
    "id": "yRozkK0R0P90"
   },
   "source": [
    "# Ejercicio 12\n",
    "\n",
    "Ahora vamos a mostrar el nombre y la edad de todos los usuarios y todas las usuarias que han comprado ropa. Imprime el nombre y la edad en la misma declaración print."
   ]
  },
  {
   "cell_type": "code",
   "execution_count": 14,
   "metadata": {
    "id": "mSIyHq1f0P90"
   },
   "outputs": [
    {
     "name": "stdout",
     "output_type": "stream",
     "text": [
      "[['kate', 'morgan'], 24]\n",
      "[['samantha', 'smith'], 29]\n",
      "[['maria', 'garcia'], 33]\n",
      "[['lisa', 'wilson'], 35]\n",
      "[['james', 'lee'], 28]\n"
     ]
    }
   ],
   "source": [
    "users = [\n",
    "    ['32415', ['mike', 'reed'], 32, ['electronics', 'sport', 'books'],\n",
    "     [894, 213, 173]],\n",
    "    ['31980', ['kate', 'morgan'], 24, ['clothes', 'books'], [439,\n",
    "     390]],\n",
    "    ['32156', ['john', 'doe'], 37, ['electronics', 'home', 'food'],\n",
    "     [459, 120, 99]],\n",
    "    ['32761', ['samantha', 'smith'], 29, ['clothes', 'electronics',\n",
    "     'beauty'], [299, 679, 85]],\n",
    "    ['32984', ['david', 'white'], 41, ['books', 'home', 'sport'], [234,\n",
    "     329, 243]],\n",
    "    ['33001', ['emily', 'brown'], 26, ['beauty', 'home', 'food'], [213,\n",
    "     659, 79]],\n",
    "    ['33767', ['maria', 'garcia'], 33, ['clothes', 'food', 'beauty'],\n",
    "     [499, 189, 63]],\n",
    "    ['33912', ['jose', 'martinez'], 22, ['sport', 'electronics', 'home'\n",
    "     ], [259, 549, 109]],\n",
    "    ['34009', ['lisa', 'wilson'], 35, ['home', 'books', 'clothes'],\n",
    "     [329, 189, 329]],\n",
    "    ['34278', ['james', 'lee'], 28, ['beauty', 'clothes', 'electronics'\n",
    "     ], [189, 299, 579]],\n",
    "    ]\n",
    "\n",
    "#Clients who have bought clothes and their ages\n",
    "for user in users: #escribe tu código aquí\n",
    "    if 'clothes' in user[-2]:\n",
    "        print(user[1:3]) #también podría haber sido print(user[1], user[2])"
   ]
  },
  {
   "cell_type": "markdown",
   "metadata": {
    "id": "Bq0_-hvu0P91"
   },
   "source": [
    "## Escribe aquí cualquier comentario o reflexión final"
   ]
  },
  {
   "cell_type": "code",
   "execution_count": 15,
   "metadata": {},
   "outputs": [],
   "source": [
    "#una descripción o interpretación de lo que hiciste"
   ]
  },
  {
   "cell_type": "markdown",
   "metadata": {},
   "source": [
    "<div class=\"alert alert-block alert-info\">\n",
    "<b>Comentario general (1ra Iteracion)</b> <a class=“tocSkip”></a>\n",
    "    \n",
    "\n",
    "Paula hiciste un buen trabajo con tu proyecto aplicando Python! Recuerda que la práctica hace al maestro y prácticar los conceptos vistos aquí e incluso profundizando en diferentes soluciones te ayudará en tus próximos proyectos. Al principio puede ser un poco complicado entender la lógica y la sintaxis en si, pero con práctica tus habilidades se irán puliendo.\n",
    "<br>\n",
    "<br>\n",
    "Los condicionales, los bucles, las listas, son elementos que verás a lo largo de tu carrera cómo Data Analyst por lo que entender cómo utilizarlos te ayudará a que avances de mejor manera en tus siguientes pasos como Data Analyst!\n",
    "<br>\n",
    "Hay un ejercicio con un pequeño error para corregir, hay que tener cuidado con la sintaxis de nuestros proyectos. Te recomiendo siempre antes de enviar un Notebook resetea el kernel y vuelve a ejecutar todas las celdas para asegurarte que esté todo correcto.\n",
    "<br>\n",
    "Un saludo! 🦾\n",
    "</div>"
   ]
  },
  {
   "cell_type": "code",
   "execution_count": null,
   "metadata": {},
   "outputs": [],
   "source": []
  }
 ],
 "metadata": {
  "ExecuteTimeLog": [
   {
    "duration": 334,
    "start_time": "2024-06-13T23:47:24.555Z"
   },
   {
    "duration": 6,
    "start_time": "2024-06-13T23:47:40.686Z"
   },
   {
    "duration": 5,
    "start_time": "2024-06-13T23:57:17.032Z"
   },
   {
    "duration": 4,
    "start_time": "2024-06-13T23:57:20.166Z"
   },
   {
    "duration": 4,
    "start_time": "2024-06-13T23:57:52.768Z"
   },
   {
    "duration": 5,
    "start_time": "2024-06-13T23:58:34.996Z"
   },
   {
    "duration": 5,
    "start_time": "2024-06-14T00:00:24.859Z"
   },
   {
    "duration": 24,
    "start_time": "2024-06-14T00:03:06.309Z"
   },
   {
    "duration": 24,
    "start_time": "2024-06-14T00:04:34.233Z"
   },
   {
    "duration": 5,
    "start_time": "2024-06-14T00:06:55.520Z"
   },
   {
    "duration": 6,
    "start_time": "2024-06-14T00:07:15.754Z"
   },
   {
    "duration": 32,
    "start_time": "2024-06-14T00:09:18.868Z"
   },
   {
    "duration": 30,
    "start_time": "2024-06-14T00:09:30.875Z"
   },
   {
    "duration": 6,
    "start_time": "2024-06-14T00:11:03.415Z"
   },
   {
    "duration": 6,
    "start_time": "2024-06-14T00:12:08.903Z"
   },
   {
    "duration": 5,
    "start_time": "2024-06-14T00:12:22.322Z"
   },
   {
    "duration": 5,
    "start_time": "2024-06-14T00:13:44.328Z"
   },
   {
    "duration": 6,
    "start_time": "2024-06-14T00:14:13.247Z"
   },
   {
    "duration": 5,
    "start_time": "2024-06-14T00:14:26.756Z"
   },
   {
    "duration": 5,
    "start_time": "2024-06-14T00:15:35.242Z"
   },
   {
    "duration": 7,
    "start_time": "2024-06-14T00:15:45.726Z"
   },
   {
    "duration": 8,
    "start_time": "2024-06-14T00:25:05.554Z"
   },
   {
    "duration": 9,
    "start_time": "2024-06-14T00:26:03.639Z"
   },
   {
    "duration": 6,
    "start_time": "2024-06-14T00:26:10.216Z"
   },
   {
    "duration": 7,
    "start_time": "2024-06-14T00:26:21.037Z"
   },
   {
    "duration": 7,
    "start_time": "2024-06-14T00:26:32.109Z"
   },
   {
    "duration": 9,
    "start_time": "2024-06-14T00:28:01.865Z"
   },
   {
    "duration": 10,
    "start_time": "2024-06-14T00:28:22.889Z"
   },
   {
    "duration": 9,
    "start_time": "2024-06-14T00:29:45.462Z"
   },
   {
    "duration": 8,
    "start_time": "2024-06-14T00:29:56.082Z"
   },
   {
    "duration": 7,
    "start_time": "2024-06-14T00:30:08.427Z"
   },
   {
    "duration": 7,
    "start_time": "2024-06-14T00:31:13.083Z"
   },
   {
    "duration": 6,
    "start_time": "2024-06-14T00:36:28.509Z"
   },
   {
    "duration": 6,
    "start_time": "2024-06-14T00:37:12.456Z"
   },
   {
    "duration": 9,
    "start_time": "2024-06-14T00:41:31.643Z"
   },
   {
    "duration": 6,
    "start_time": "2024-06-14T00:41:41.102Z"
   },
   {
    "duration": 6,
    "start_time": "2024-06-14T00:41:55.508Z"
   },
   {
    "duration": 6,
    "start_time": "2024-06-14T00:42:04.370Z"
   },
   {
    "duration": 6,
    "start_time": "2024-06-14T00:42:22.690Z"
   },
   {
    "duration": 6,
    "start_time": "2024-06-14T00:42:27.329Z"
   },
   {
    "duration": 5,
    "start_time": "2024-06-14T00:42:45.018Z"
   },
   {
    "duration": 4,
    "start_time": "2024-06-14T00:47:14.737Z"
   },
   {
    "duration": 24,
    "start_time": "2024-06-14T00:48:10.267Z"
   },
   {
    "duration": 5,
    "start_time": "2024-06-14T00:48:27.462Z"
   },
   {
    "duration": 28,
    "start_time": "2024-06-14T01:05:25.369Z"
   },
   {
    "duration": 63,
    "start_time": "2024-06-14T01:05:36.039Z"
   },
   {
    "duration": 7,
    "start_time": "2024-06-14T01:06:14.682Z"
   },
   {
    "duration": 7,
    "start_time": "2024-06-14T01:06:28.428Z"
   },
   {
    "duration": 26,
    "start_time": "2024-06-14T01:07:15.845Z"
   },
   {
    "duration": 6,
    "start_time": "2024-06-14T01:07:57.310Z"
   },
   {
    "duration": 10,
    "start_time": "2024-06-14T01:29:00.859Z"
   },
   {
    "duration": 12,
    "start_time": "2024-06-14T01:29:17.899Z"
   },
   {
    "duration": 13,
    "start_time": "2024-06-14T01:32:31.343Z"
   },
   {
    "duration": 12,
    "start_time": "2024-06-14T01:33:00.644Z"
   },
   {
    "duration": 13,
    "start_time": "2024-06-14T01:33:48.615Z"
   },
   {
    "duration": 11,
    "start_time": "2024-06-14T01:34:00.079Z"
   },
   {
    "duration": 42,
    "start_time": "2024-06-14T01:34:59.935Z"
   },
   {
    "duration": 10,
    "start_time": "2024-06-14T01:35:14.125Z"
   },
   {
    "duration": 10,
    "start_time": "2024-06-14T01:39:12.788Z"
   },
   {
    "duration": 13,
    "start_time": "2024-06-14T01:39:25.713Z"
   },
   {
    "duration": 10,
    "start_time": "2024-06-14T01:39:30.447Z"
   },
   {
    "duration": 10,
    "start_time": "2024-06-14T01:39:53.967Z"
   },
   {
    "duration": 12,
    "start_time": "2024-06-14T04:39:42.869Z"
   },
   {
    "duration": 5,
    "start_time": "2024-06-14T04:39:42.885Z"
   },
   {
    "duration": 5,
    "start_time": "2024-06-14T04:39:42.893Z"
   },
   {
    "duration": 5,
    "start_time": "2024-06-14T04:39:42.902Z"
   },
   {
    "duration": 5,
    "start_time": "2024-06-14T04:39:42.912Z"
   },
   {
    "duration": 6,
    "start_time": "2024-06-14T04:39:42.927Z"
   },
   {
    "duration": 5,
    "start_time": "2024-06-14T04:39:42.936Z"
   },
   {
    "duration": 6,
    "start_time": "2024-06-14T04:39:42.944Z"
   },
   {
    "duration": 6,
    "start_time": "2024-06-14T04:39:42.953Z"
   },
   {
    "duration": 63,
    "start_time": "2024-06-14T04:39:42.962Z"
   },
   {
    "duration": 11,
    "start_time": "2024-06-14T04:39:43.028Z"
   },
   {
    "duration": 11,
    "start_time": "2024-06-14T04:39:43.042Z"
   },
   {
    "duration": 0,
    "start_time": "2024-06-14T04:39:43.056Z"
   },
   {
    "duration": 0,
    "start_time": "2024-06-14T04:39:43.061Z"
   },
   {
    "duration": 11,
    "start_time": "2024-06-14T04:42:25.636Z"
   },
   {
    "duration": 14,
    "start_time": "2024-06-14T16:42:40.830Z"
   },
   {
    "duration": 6,
    "start_time": "2024-06-14T16:42:51.087Z"
   },
   {
    "duration": 6,
    "start_time": "2024-06-14T16:43:40.643Z"
   },
   {
    "duration": 9,
    "start_time": "2024-06-14T16:45:13.323Z"
   },
   {
    "duration": 6,
    "start_time": "2024-06-14T16:45:23.682Z"
   },
   {
    "duration": 6,
    "start_time": "2024-06-14T16:45:25.540Z"
   },
   {
    "duration": 11,
    "start_time": "2024-06-14T16:46:37.646Z"
   },
   {
    "duration": 12,
    "start_time": "2024-06-14T16:49:38.355Z"
   },
   {
    "duration": 7,
    "start_time": "2024-06-14T16:51:02.197Z"
   },
   {
    "duration": 7,
    "start_time": "2024-06-14T16:51:19.904Z"
   },
   {
    "duration": 6,
    "start_time": "2024-06-14T16:51:29.579Z"
   },
   {
    "duration": 7,
    "start_time": "2024-06-14T16:57:06.447Z"
   },
   {
    "duration": 6,
    "start_time": "2024-06-14T16:57:10.443Z"
   },
   {
    "duration": 12,
    "start_time": "2024-06-14T16:58:10.270Z"
   },
   {
    "duration": 14,
    "start_time": "2024-06-14T17:05:56.525Z"
   },
   {
    "duration": 4,
    "start_time": "2024-06-14T17:08:12.818Z"
   },
   {
    "duration": 6,
    "start_time": "2024-06-14T17:08:12.825Z"
   },
   {
    "duration": 6,
    "start_time": "2024-06-14T17:08:12.835Z"
   },
   {
    "duration": 5,
    "start_time": "2024-06-14T17:08:12.846Z"
   },
   {
    "duration": 6,
    "start_time": "2024-06-14T17:08:12.854Z"
   },
   {
    "duration": 42,
    "start_time": "2024-06-14T17:08:12.864Z"
   },
   {
    "duration": 6,
    "start_time": "2024-06-14T17:08:12.911Z"
   },
   {
    "duration": 6,
    "start_time": "2024-06-14T17:08:12.920Z"
   },
   {
    "duration": 4,
    "start_time": "2024-06-14T17:08:12.930Z"
   },
   {
    "duration": 8,
    "start_time": "2024-06-14T17:08:12.937Z"
   },
   {
    "duration": 60,
    "start_time": "2024-06-14T17:08:12.948Z"
   },
   {
    "duration": 12,
    "start_time": "2024-06-14T17:08:13.011Z"
   },
   {
    "duration": 12,
    "start_time": "2024-06-14T17:08:13.027Z"
   },
   {
    "duration": 4,
    "start_time": "2024-06-14T17:08:13.042Z"
   },
   {
    "duration": 4,
    "start_time": "2024-06-14T17:08:20.265Z"
   },
   {
    "duration": 11,
    "start_time": "2024-06-14T17:08:24.944Z"
   }
  ],
  "celltoolbar": "Raw Cell Format",
  "colab": {
   "provenance": []
  },
  "kernelspec": {
   "display_name": "Python 3 (ipykernel)",
   "language": "python",
   "name": "python3"
  },
  "language_info": {
   "codemirror_mode": {
    "name": "ipython",
    "version": 3
   },
   "file_extension": ".py",
   "mimetype": "text/x-python",
   "name": "python",
   "nbconvert_exporter": "python",
   "pygments_lexer": "ipython3",
   "version": "3.9.19"
  },
  "toc": {
   "base_numbering": 1,
   "nav_menu": {},
   "number_sections": true,
   "sideBar": true,
   "skip_h1_title": true,
   "title_cell": "Table of Contents",
   "title_sidebar": "Contents",
   "toc_cell": false,
   "toc_position": {},
   "toc_section_display": true,
   "toc_window_display": false
  }
 },
 "nbformat": 4,
 "nbformat_minor": 1
}
